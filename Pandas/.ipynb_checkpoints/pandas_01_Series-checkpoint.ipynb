{
 "cells": [
  {
   "cell_type": "code",
   "execution_count": 3,
   "id": "7248ad92",
   "metadata": {},
   "outputs": [],
   "source": [
    "import numpy as np"
   ]
  },
  {
   "cell_type": "code",
   "execution_count": 4,
   "id": "6ee46e2c",
   "metadata": {},
   "outputs": [],
   "source": [
    "import pandas as pd"
   ]
  },
  {
   "cell_type": "code",
   "execution_count": 6,
   "id": "e9f5bf32",
   "metadata": {},
   "outputs": [],
   "source": [
    "myindex = ['USA','Canada','Mexico']"
   ]
  },
  {
   "cell_type": "code",
   "execution_count": 5,
   "id": "d9324a8b",
   "metadata": {},
   "outputs": [],
   "source": [
    "mydata = [1776,1867,1821]"
   ]
  },
  {
   "cell_type": "code",
   "execution_count": 7,
   "id": "efda9df3",
   "metadata": {},
   "outputs": [],
   "source": [
    "myser1 = pd.Series(data = mydata)"
   ]
  },
  {
   "cell_type": "code",
   "execution_count": 8,
   "id": "c6f0e126",
   "metadata": {},
   "outputs": [
    {
     "data": {
      "text/plain": [
       "0    1776\n",
       "1    1867\n",
       "2    1821\n",
       "dtype: int64"
      ]
     },
     "execution_count": 8,
     "metadata": {},
     "output_type": "execute_result"
    }
   ],
   "source": [
    "myser1 # data is stored along index"
   ]
  },
  {
   "cell_type": "code",
   "execution_count": 9,
   "id": "c11e59e5",
   "metadata": {},
   "outputs": [],
   "source": [
    "myser2 = pd.Series(data = mydata,index = myindex)"
   ]
  },
  {
   "cell_type": "code",
   "execution_count": 10,
   "id": "12faad3e",
   "metadata": {},
   "outputs": [
    {
     "data": {
      "text/plain": [
       "USA       1776\n",
       "Canada    1867\n",
       "Mexico    1821\n",
       "dtype: int64"
      ]
     },
     "execution_count": 10,
     "metadata": {},
     "output_type": "execute_result"
    }
   ],
   "source": [
    "myser2 # data is stored along labelled data set"
   ]
  },
  {
   "cell_type": "code",
   "execution_count": 11,
   "id": "99a4a202",
   "metadata": {},
   "outputs": [
    {
     "data": {
      "text/plain": [
       "1776"
      ]
     },
     "execution_count": 11,
     "metadata": {},
     "output_type": "execute_result"
    }
   ],
   "source": [
    "# data from myser2 can be accessed through index or lablled data set\n",
    "myser2[0]\n",
    "myser2['USA']"
   ]
  },
  {
   "cell_type": "code",
   "execution_count": 12,
   "id": "580d4b83",
   "metadata": {},
   "outputs": [
    {
     "data": {
      "text/plain": [
       "Shivansh    5\n",
       "Gaurav      7\n",
       "Spike       0\n",
       "dtype: int64"
      ]
     },
     "execution_count": 12,
     "metadata": {},
     "output_type": "execute_result"
    }
   ],
   "source": [
    "ages = {'Shivansh':5,'Gaurav':7,'Spike':0}\n",
    "pd.Series(ages) # pandas directly convert dictionary to series."
   ]
  },
  {
   "cell_type": "code",
   "execution_count": 13,
   "id": "f24261d8",
   "metadata": {},
   "outputs": [],
   "source": [
    "#Operations in Series"
   ]
  },
  {
   "cell_type": "code",
   "execution_count": 14,
   "id": "c44b74eb",
   "metadata": {},
   "outputs": [],
   "source": [
    "# Imaginary Sales Data for 1st and 2nd Quarters for Global Company"
   ]
  },
  {
   "cell_type": "code",
   "execution_count": 16,
   "id": "7a5b7eee",
   "metadata": {},
   "outputs": [],
   "source": [
    "q1 = {'Japan':80,'China':450,'India':200,'USA':250}\n",
    "q2 = {'Brazil':100,'China':500,'India':210,'USA':260}\n"
   ]
  },
  {
   "cell_type": "code",
   "execution_count": 17,
   "id": "6f129a45",
   "metadata": {},
   "outputs": [],
   "source": [
    "sales_q1 = pd.Series(q1)"
   ]
  },
  {
   "cell_type": "code",
   "execution_count": 19,
   "id": "08bac62e",
   "metadata": {},
   "outputs": [],
   "source": [
    "sales_q2 = pd.Series(q2)"
   ]
  },
  {
   "cell_type": "code",
   "execution_count": 21,
   "id": "a5f0a535",
   "metadata": {},
   "outputs": [
    {
     "data": {
      "text/plain": [
       "Japan     80\n",
       "China    450\n",
       "India    200\n",
       "USA      250\n",
       "dtype: int64"
      ]
     },
     "execution_count": 21,
     "metadata": {},
     "output_type": "execute_result"
    }
   ],
   "source": [
    "sales_q1"
   ]
  },
  {
   "cell_type": "code",
   "execution_count": 23,
   "id": "0db87c5a",
   "metadata": {},
   "outputs": [
    {
     "data": {
      "text/plain": [
       "Brazil    100\n",
       "China     500\n",
       "India     210\n",
       "USA       260\n",
       "dtype: int64"
      ]
     },
     "execution_count": 23,
     "metadata": {},
     "output_type": "execute_result"
    }
   ],
   "source": [
    "sales_q2"
   ]
  },
  {
   "cell_type": "code",
   "execution_count": 25,
   "id": "2302bcf6",
   "metadata": {},
   "outputs": [
    {
     "data": {
      "text/plain": [
       "80"
      ]
     },
     "execution_count": 25,
     "metadata": {},
     "output_type": "execute_result"
    }
   ],
   "source": [
    "sales_q1[0]"
   ]
  },
  {
   "cell_type": "code",
   "execution_count": 27,
   "id": "46f37a4d",
   "metadata": {},
   "outputs": [
    {
     "data": {
      "text/plain": [
       "80"
      ]
     },
     "execution_count": 27,
     "metadata": {},
     "output_type": "execute_result"
    }
   ],
   "source": [
    "sales_q1['Japan'] # More readable than passing just 0"
   ]
  },
  {
   "cell_type": "code",
   "execution_count": 29,
   "id": "bd875cfa",
   "metadata": {},
   "outputs": [
    {
     "data": {
      "text/plain": [
       "Index(['Japan', 'China', 'India', 'USA'], dtype='object')"
      ]
     },
     "execution_count": 29,
     "metadata": {},
     "output_type": "execute_result"
    }
   ],
   "source": [
    "sales_q1.keys() # To get all the keys in our dict"
   ]
  },
  {
   "cell_type": "code",
   "execution_count": 31,
   "id": "e4db080f",
   "metadata": {},
   "outputs": [
    {
     "data": {
      "text/plain": [
       "[1, 2, 1, 2]"
      ]
     },
     "execution_count": 31,
     "metadata": {},
     "output_type": "execute_result"
    }
   ],
   "source": [
    "[1,2] * 2 # for normal array"
   ]
  },
  {
   "cell_type": "code",
   "execution_count": 33,
   "id": "10f4b252",
   "metadata": {},
   "outputs": [
    {
     "data": {
      "text/plain": [
       "array([2, 4])"
      ]
     },
     "execution_count": 33,
     "metadata": {},
     "output_type": "execute_result"
    }
   ],
   "source": [
    "np.array([1,2])*2 # Array got broadcasted"
   ]
  },
  {
   "cell_type": "code",
   "execution_count": 34,
   "id": "722bc4d1",
   "metadata": {},
   "outputs": [],
   "source": [
    "# As Pandas is build upon numpy then we can perform braodcasting operations on pandas also"
   ]
  },
  {
   "cell_type": "code",
   "execution_count": 38,
   "id": "870c76a8",
   "metadata": {},
   "outputs": [
    {
     "data": {
      "text/plain": [
       "Japan    160\n",
       "China    900\n",
       "India    400\n",
       "USA      500\n",
       "dtype: int64"
      ]
     },
     "execution_count": 38,
     "metadata": {},
     "output_type": "execute_result"
    }
   ],
   "source": [
    "sales_q1 * 2 # Values got mutliplied by 2"
   ]
  },
  {
   "cell_type": "code",
   "execution_count": 41,
   "id": "0fc24214",
   "metadata": {},
   "outputs": [
    {
     "data": {
      "text/plain": [
       "Japan    0.8\n",
       "China    4.5\n",
       "India    2.0\n",
       "USA      2.5\n",
       "dtype: float64"
      ]
     },
     "execution_count": 41,
     "metadata": {},
     "output_type": "execute_result"
    }
   ],
   "source": [
    "sales_q1/100 "
   ]
  },
  {
   "cell_type": "code",
   "execution_count": 43,
   "id": "94b28f54",
   "metadata": {},
   "outputs": [
    {
     "data": {
      "text/plain": [
       "Brazil      NaN\n",
       "China     950.0\n",
       "India     410.0\n",
       "Japan       NaN\n",
       "USA       510.0\n",
       "dtype: float64"
      ]
     },
     "execution_count": 43,
     "metadata": {},
     "output_type": "execute_result"
    }
   ],
   "source": [
    "sales_q1 + sales_q2 # Brazil and Japan are not present in the case"
   ]
  },
  {
   "cell_type": "code",
   "execution_count": 44,
   "id": "865510c0",
   "metadata": {},
   "outputs": [
    {
     "data": {
      "text/plain": [
       "Brazil    100.0\n",
       "China     950.0\n",
       "India     410.0\n",
       "Japan      80.0\n",
       "USA       510.0\n",
       "dtype: float64"
      ]
     },
     "execution_count": 44,
     "metadata": {},
     "output_type": "execute_result"
    }
   ],
   "source": [
    "sales_q1.add(sales_q2,fill_value = 0) "
   ]
  }
 ],
 "metadata": {
  "kernelspec": {
   "display_name": "Python 3 (ipykernel)",
   "language": "python",
   "name": "python3"
  },
  "language_info": {
   "codemirror_mode": {
    "name": "ipython",
    "version": 3
   },
   "file_extension": ".py",
   "mimetype": "text/x-python",
   "name": "python",
   "nbconvert_exporter": "python",
   "pygments_lexer": "ipython3",
   "version": "3.8.19"
  }
 },
 "nbformat": 4,
 "nbformat_minor": 5
}
