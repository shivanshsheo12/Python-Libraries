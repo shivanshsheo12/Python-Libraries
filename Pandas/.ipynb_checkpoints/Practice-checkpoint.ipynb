{
 "cells": [
  {
   "cell_type": "code",
   "execution_count": 1,
   "id": "6a80103c",
   "metadata": {},
   "outputs": [],
   "source": [
    "import pandas as pd"
   ]
  },
  {
   "cell_type": "code",
   "execution_count": 2,
   "id": "9d8a169e",
   "metadata": {},
   "outputs": [],
   "source": [
    "import numpy as np"
   ]
  },
  {
   "cell_type": "code",
   "execution_count": 3,
   "id": "6ab199a1",
   "metadata": {},
   "outputs": [],
   "source": [
    "my_data = np.random.randint(1,101,5)"
   ]
  },
  {
   "cell_type": "code",
   "execution_count": 4,
   "id": "746033d5",
   "metadata": {},
   "outputs": [],
   "source": [
    "my_index = ['shivansh','dhruv','shreyash','anish','gaurav']"
   ]
  },
  {
   "cell_type": "code",
   "execution_count": 5,
   "id": "8b2cbd77",
   "metadata": {},
   "outputs": [],
   "source": [
    "my_series = pd.Series(data = my_data,index = my_index)"
   ]
  },
  {
   "cell_type": "code",
   "execution_count": 7,
   "id": "d284c822",
   "metadata": {},
   "outputs": [
    {
     "data": {
      "text/plain": [
       "shivansh    22\n",
       "dhruv       37\n",
       "shreyash    50\n",
       "anish       77\n",
       "gaurav       4\n",
       "dtype: int32"
      ]
     },
     "execution_count": 7,
     "metadata": {},
     "output_type": "execute_result"
    }
   ],
   "source": [
    "my_series"
   ]
  },
  {
   "cell_type": "code",
   "execution_count": 8,
   "id": "9911d48e",
   "metadata": {},
   "outputs": [],
   "source": [
    "my_dict = {'shivansh':43,'shreyash':56,'Anish':34,'Gaurav':89}"
   ]
  },
  {
   "cell_type": "code",
   "execution_count": 9,
   "id": "2846e8e6",
   "metadata": {},
   "outputs": [],
   "source": [
    "my_series_dict = pd.Series(my_dict)"
   ]
  },
  {
   "cell_type": "code",
   "execution_count": 10,
   "id": "1907c4b2",
   "metadata": {},
   "outputs": [
    {
     "data": {
      "text/plain": [
       "shivansh    43\n",
       "shreyash    56\n",
       "Anish       34\n",
       "Gaurav      89\n",
       "dtype: int64"
      ]
     },
     "execution_count": 10,
     "metadata": {},
     "output_type": "execute_result"
    }
   ],
   "source": [
    "my_series_dict"
   ]
  },
  {
   "cell_type": "code",
   "execution_count": 11,
   "id": "cf6a7714",
   "metadata": {},
   "outputs": [],
   "source": [
    "q1 = {'Japan': 80, 'China': 450, 'India': 200, 'USA': 250}\n",
    "q2 = {'Brazil': 100,'China': 500, 'India': 210,'USA': 260}"
   ]
  },
  {
   "cell_type": "code",
   "execution_count": null,
   "id": "6b3984d3",
   "metadata": {},
   "outputs": [],
   "source": []
  }
 ],
 "metadata": {
  "kernelspec": {
   "display_name": "Python 3 (ipykernel)",
   "language": "python",
   "name": "python3"
  },
  "language_info": {
   "codemirror_mode": {
    "name": "ipython",
    "version": 3
   },
   "file_extension": ".py",
   "mimetype": "text/x-python",
   "name": "python",
   "nbconvert_exporter": "python",
   "pygments_lexer": "ipython3",
   "version": "3.8.19"
  }
 },
 "nbformat": 4,
 "nbformat_minor": 5
}
